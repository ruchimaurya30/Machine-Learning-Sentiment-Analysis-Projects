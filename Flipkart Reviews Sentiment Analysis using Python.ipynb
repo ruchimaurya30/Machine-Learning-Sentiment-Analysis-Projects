{
 "cells": [
  {
   "cell_type": "markdown",
   "id": "aa2e3f3b",
   "metadata": {},
   "source": [
    "# Flipkart Reviews Sentiment Analysis using Python\n",
    "Embark on an exciting journey through the world of sentiment analysis with our expert data scientist, Sarah. In this adventure, Sarah uses Python and NLTK to unveil the sentiments hidden within Flipkart's extensive product reviews.\n",
    "\n",
    "Our story unfolds in the bustling marketplace of Flipkart, where millions of customers share their opinions about various products. Sarah's mission is to categorize these sentiments into three distinct types: positive, negative, and neutral.\n",
    "\n",
    "The dataset is a goldmine of customer expressions, containing reviews for products ranging from electronics to home goods. Amidst this sea of text, Sarah seeks to uncover the true sentiments.\n",
    "\n",
    "Fearless and determined, Sarah dives into the dataset. With NLTK, she transforms the unstructured text into structured data, ready for analysis. The journey begins with data preprocessing, where she cleans, tokenizes, and organizes the text for clarity.\n",
    "\n",
    "As the adventure unfolds, Sarah builds machine learning models that delve into the intricacies of each review. These models, trained on a multitude of sentiments, learn to discern the subtle tones hidden within the words.\n",
    "\n",
    "But this journey isn't just about algorithms; it's about deciphering human emotions. Each line of code and each model brings us closer to understanding the collective sentiment of Flipkart's customers. It's about making sense of the vast ocean of opinions that guide our shopping decisions.\n",
    "\n",
    "Join us on this remarkable expedition, where every code line, sentiment classification, and discovery takes us deeper into the minds of consumers. Together, we'll unravel the secrets of sentiment analysis and enhance the e-commerce experience for all. "
   ]
  },
  {
   "cell_type": "markdown",
   "id": "77ebb820",
   "metadata": {},
   "source": [
    "## Task 1: Importing the data\n",
    "In the realm of data exploration, the simple act of importing the Pandas library and loading a dataset is akin to unlocking the door to a treasure trove of insights. Imagine yourself as the curious explorer, standing at the threshold of a vast dataset containing Flipkart reviews. These initial steps are the guiding light in the uncharted terrain, offering a glimpse into the dataset's structure and content. They're essential because they provide the foundation for understanding the customer sentiments, trends, and preferences that lie hidden within, setting the stage for informed decision-making and valuable insights. "
   ]
  },
  {
   "cell_type": "code",
   "execution_count": 1,
   "id": "5c52b75f",
   "metadata": {},
   "outputs": [
    {
     "data": {
      "text/html": [
       "<div>\n",
       "<style scoped>\n",
       "    .dataframe tbody tr th:only-of-type {\n",
       "        vertical-align: middle;\n",
       "    }\n",
       "\n",
       "    .dataframe tbody tr th {\n",
       "        vertical-align: top;\n",
       "    }\n",
       "\n",
       "    .dataframe thead th {\n",
       "        text-align: right;\n",
       "    }\n",
       "</style>\n",
       "<table border=\"1\" class=\"dataframe\">\n",
       "  <thead>\n",
       "    <tr style=\"text-align: right;\">\n",
       "      <th></th>\n",
       "      <th>Product_name</th>\n",
       "      <th>Review</th>\n",
       "      <th>Rating</th>\n",
       "    </tr>\n",
       "  </thead>\n",
       "  <tbody>\n",
       "    <tr>\n",
       "      <th>0</th>\n",
       "      <td>Lenovo Ideapad Gaming 3 Ryzen 5 Hexa Core 5600...</td>\n",
       "      <td>Best under 60k Great performanceI got it for a...</td>\n",
       "      <td>5.0</td>\n",
       "    </tr>\n",
       "    <tr>\n",
       "      <th>1</th>\n",
       "      <td>Lenovo Ideapad Gaming 3 Ryzen 5 Hexa Core 5600...</td>\n",
       "      <td>Good perfomence...</td>\n",
       "      <td>5.0</td>\n",
       "    </tr>\n",
       "    <tr>\n",
       "      <th>2</th>\n",
       "      <td>Lenovo Ideapad Gaming 3 Ryzen 5 Hexa Core 5600...</td>\n",
       "      <td>Great performance but usually it has also that...</td>\n",
       "      <td>5.0</td>\n",
       "    </tr>\n",
       "    <tr>\n",
       "      <th>3</th>\n",
       "      <td>DELL Inspiron Athlon Dual Core 3050U - (4 GB/2...</td>\n",
       "      <td>My wife is so happy and best product 👌🏻😘</td>\n",
       "      <td>5.0</td>\n",
       "    </tr>\n",
       "    <tr>\n",
       "      <th>4</th>\n",
       "      <td>DELL Inspiron Athlon Dual Core 3050U - (4 GB/2...</td>\n",
       "      <td>Light weight laptop with new amazing features,...</td>\n",
       "      <td>5.0</td>\n",
       "    </tr>\n",
       "    <tr>\n",
       "      <th>...</th>\n",
       "      <td>...</td>\n",
       "      <td>...</td>\n",
       "      <td>...</td>\n",
       "    </tr>\n",
       "    <tr>\n",
       "      <th>2299</th>\n",
       "      <td>MSI 27 inch Full HD IPS Panel Monitor (PRO MP2...</td>\n",
       "      <td>Great display, accurate colours at this price ...</td>\n",
       "      <td>5.0</td>\n",
       "    </tr>\n",
       "    <tr>\n",
       "      <th>2300</th>\n",
       "      <td>MSI 27 inch Full HD IPS Panel Monitor (PRO MP2...</td>\n",
       "      <td>Superb monitor first brought 1 used for 2 mont...</td>\n",
       "      <td>5.0</td>\n",
       "    </tr>\n",
       "    <tr>\n",
       "      <th>2301</th>\n",
       "      <td>MSI 27 inch Full HD IPS Panel Monitor (PRO MP2...</td>\n",
       "      <td>Awesome</td>\n",
       "      <td>5.0</td>\n",
       "    </tr>\n",
       "    <tr>\n",
       "      <th>2302</th>\n",
       "      <td>MSI 27 inch Full HD IPS Panel Monitor (PRO MP2...</td>\n",
       "      <td>Only one issue with adapter</td>\n",
       "      <td>5.0</td>\n",
       "    </tr>\n",
       "    <tr>\n",
       "      <th>2303</th>\n",
       "      <td>MSI 27 inch Full HD IPS Panel Monitor (PRO MP2...</td>\n",
       "      <td>Worth the money u spend for this monitor Great...</td>\n",
       "      <td>NaN</td>\n",
       "    </tr>\n",
       "  </tbody>\n",
       "</table>\n",
       "<p>2304 rows × 3 columns</p>\n",
       "</div>"
      ],
      "text/plain": [
       "                                           Product_name  \\\n",
       "0     Lenovo Ideapad Gaming 3 Ryzen 5 Hexa Core 5600...   \n",
       "1     Lenovo Ideapad Gaming 3 Ryzen 5 Hexa Core 5600...   \n",
       "2     Lenovo Ideapad Gaming 3 Ryzen 5 Hexa Core 5600...   \n",
       "3     DELL Inspiron Athlon Dual Core 3050U - (4 GB/2...   \n",
       "4     DELL Inspiron Athlon Dual Core 3050U - (4 GB/2...   \n",
       "...                                                 ...   \n",
       "2299  MSI 27 inch Full HD IPS Panel Monitor (PRO MP2...   \n",
       "2300  MSI 27 inch Full HD IPS Panel Monitor (PRO MP2...   \n",
       "2301  MSI 27 inch Full HD IPS Panel Monitor (PRO MP2...   \n",
       "2302  MSI 27 inch Full HD IPS Panel Monitor (PRO MP2...   \n",
       "2303  MSI 27 inch Full HD IPS Panel Monitor (PRO MP2...   \n",
       "\n",
       "                                                 Review  Rating  \n",
       "0     Best under 60k Great performanceI got it for a...     5.0  \n",
       "1                                    Good perfomence...     5.0  \n",
       "2     Great performance but usually it has also that...     5.0  \n",
       "3              My wife is so happy and best product 👌🏻😘     5.0  \n",
       "4     Light weight laptop with new amazing features,...     5.0  \n",
       "...                                                 ...     ...  \n",
       "2299  Great display, accurate colours at this price ...     5.0  \n",
       "2300  Superb monitor first brought 1 used for 2 mont...     5.0  \n",
       "2301                                            Awesome     5.0  \n",
       "2302                        Only one issue with adapter     5.0  \n",
       "2303  Worth the money u spend for this monitor Great...     NaN  \n",
       "\n",
       "[2304 rows x 3 columns]"
      ]
     },
     "execution_count": 1,
     "metadata": {},
     "output_type": "execute_result"
    }
   ],
   "source": [
    "#--- Import Pandas ---\n",
    "import pandas as pd\n",
    "#--- Read in dataset ----\n",
    "df = pd.read_csv('flipkart_reviews.csv')\n",
    "df"
   ]
  },
  {
   "cell_type": "markdown",
   "id": "19ff360d",
   "metadata": {},
   "source": [
    "## Task 2: Cleaning Up with dropna()\n",
    "In the realm of data refinement, invoking the dropna() method on a DataFrame is akin to wielding a precision tool to sculpt a valuable dataset. Picture yourself as the meticulous craftsman, holding a dataset brimming with potential, but also laden with missing values. These actions serve as the chisel and mallet, skillfully carving away rows or columns containing null or missing data. This process is pivotal because it ensures that you're left with a clean and complete dataset, ready to reveal its true insights without the noise of missing information, making it the foundation for robust analysis and meaningful discoveries. "
   ]
  },
  {
   "cell_type": "code",
   "execution_count": 2,
   "id": "a175320a",
   "metadata": {},
   "outputs": [],
   "source": [
    "cleaned_df = df.dropna()"
   ]
  },
  {
   "cell_type": "markdown",
   "id": "6051fafc",
   "metadata": {},
   "source": [
    "## Task 3: Transforming Flipkart Reviews into Pie\n",
    "In the world of data analysis, using Matplotlib to create a pie chart is like crafting a visual story. In this task, you're using Matplotlib to show how flipkart product ratings are distributed. Each slice of the pie represents a different rating, and the chart helps us see which ratings are more common.\n",
    "\n",
    "Well, it's like a map that guides us to understand customer preferences. By visualizing the distribution of ratings, we can quickly grasp how people feel about Flipkart products. This is crucial for businesses to make informed decisions, improve products, and cater to customer needs effectively. So, this task is all about painting a clear picture of customer sentiment, which is essential for success in the world of e-commerce. "
   ]
  },
  {
   "cell_type": "code",
   "execution_count": 4,
   "id": "b462d9a5",
   "metadata": {},
   "outputs": [
    {
     "data": {
      "image/png": "[encoded data removed]",
      "text/plain": [
       "<Figure size 600x600 with 1 Axes>"
      ]
     },
     "metadata": {},
     "output_type": "display_data"
    }
   ],
   "source": [
    "#import matplotlib\n",
    "import matplotlib.pyplot as plt\n",
    "\n",
    "ratings = cleaned_df['Rating'].value_counts()\n",
    "\n",
    "plt.figure(figsize = (6,6))\n",
    "plt.pie(ratings, labels = ratings.index, autopct = '%1.1f%%', startangle = 140)\n",
    "plt.title('Distribution of Ratings')\n",
    "plt.axis('equal')\n",
    "plt.show()"
   ]
  },
  {
   "cell_type": "markdown",
   "id": "a0042d78",
   "metadata": {},
   "source": [
    "## Task 4: Unmasking Customer Emotions with NLTK\n",
    "In the world of natural language processing (NLP), using the Natural Language Toolkit (NLTK) to analyze sentiments is like having a language detective on your side. In this task, you're harnessing NLTK's Sentiment Intensity Analyzer to uncover the emotional tones within a collection of text reviews.\n",
    "\n",
    "Think of it as a way to decode the language of customers. By assigning positive, negative, and neutral scores to each review, you're quantifying the feelings and opinions expressed in the text. This process is vital for understanding customer sentiment, which, in turn, helps businesses make data-driven decisions, identify areas for improvement, and enhance customer satisfaction.\n",
    "\n",
    "So, this task is all about using NLP to extract valuable insights from text data, providing a deeper understanding of what customers are saying and feeling about products or services. It's like having a linguistic magnifying glass to explore the world of customer feedback. "
   ]
  },
  {
   "cell_type": "code",
   "execution_count": 8,
   "id": "448da4ac",
   "metadata": {},
   "outputs": [
    {
     "name": "stderr",
     "output_type": "stream",
     "text": [
      "[nltk_data] Downloading package vader_lexicon to\n",
      "[nltk_data]     C:\\Users\\Anonymous\\AppData\\Roaming\\nltk_data...\n",
      "[nltk_data]   Package vader_lexicon is already up-to-date!\n"
     ]
    },
    {
     "data": {
      "text/plain": [
       "True"
      ]
     },
     "execution_count": 8,
     "metadata": {},
     "output_type": "execute_result"
    }
   ],
   "source": [
    "#import Natural language Tool Kit\n",
    "import nltk\n",
    "nltk.download('vader_lexicon')"
   ]
  },
  {
   "cell_type": "code",
   "execution_count": 15,
   "id": "4c4d4b73",
   "metadata": {},
   "outputs": [],
   "source": [
    "from nltk.sentiment.vader import SentimentIntensityAnalyzer\n",
    "sid = SentimentIntensityAnalyzer()\n",
    "data = pd.DataFrame(cleaned_df['Review'])\n",
    "\n",
    "def sentiment_scores(Review):\n",
    "    scores  = sid.polarity_scores(Review)\n",
    "    return scores['pos'], scores['neg'], scores['neu']\n",
    "data[['Positive', 'Negative', 'Neutral']] = df['Review'].apply(lambda x : pd.Series(sentiment_scores(x)))"
   ]
  },
  {
   "cell_type": "markdown",
   "id": "a2e4fa86",
   "metadata": {},
   "source": [
    "## Task 5: Turning Customer Emotions into Numbers\n",
    "In this task, you're crunching the numbers, summing up positive, negative, and neutral scores derived from customer reviews.\n",
    "\n",
    "It's like tallying up the emotions expressed by customers. By finding the sum of these scores, you're quantifying the overall sentiment hidden within the reviews. This numerical representation provides a clear snapshot of the collective sentiment, allowing businesses to gauge customer satisfaction, detect trends, and make data-driven decisions.\n",
    "\n",
    "So, this task is all about adding up the emotional clues embedded in the data, turning text-based sentiments into quantifiable insights that guide business strategies. It's like counting the pieces of a puzzle that, when put together, reveal the bigger picture of customer opinions. "
   ]
  },
  {
   "cell_type": "code",
   "execution_count": 17,
   "id": "58ab67d3",
   "metadata": {},
   "outputs": [],
   "source": [
    "x = round(data['Positive'].sum(),2)\n",
    "y = round(data['Negative'].sum(),2)\n",
    "z = round(data['Neutral'].sum(),2)\n"
   ]
  }
 ],
 "metadata": {
  "kernelspec": {
   "display_name": "Python 3 (ipykernel)",
   "language": "python",
   "name": "python3"
  },
  "language_info": {
   "codemirror_mode": {
    "name": "ipython",
    "version": 3
   },
   "file_extension": ".py",
   "mimetype": "text/x-python",
   "name": "python",
   "nbconvert_exporter": "python",
   "pygments_lexer": "ipython3",
   "version": "3.11.5"
  }
 },
 "nbformat": 4,
 "nbformat_minor": 5
}
